{
 "cells": [
  {
   "cell_type": "code",
   "execution_count": 5,
   "metadata": {},
   "outputs": [],
   "source": [
    "from keras.datasets import mnist\n",
    "import numpy as np"
   ]
  },
  {
   "cell_type": "code",
   "execution_count": 6,
   "metadata": {},
   "outputs": [],
   "source": [
    "classes = [0,1]"
   ]
  },
  {
   "cell_type": "code",
   "execution_count": 8,
   "metadata": {},
   "outputs": [],
   "source": [
    "(x_train, y_train), (x_test, y_test) = mnist.load_data()"
   ]
  },
  {
   "cell_type": "code",
   "execution_count": 19,
   "metadata": {},
   "outputs": [
    {
     "name": "stdout",
     "output_type": "stream",
     "text": [
      "0 (5923, 28, 28)\n",
      "1 (6742, 28, 28)\n",
      "2 (5958, 28, 28)\n",
      "3 (6131, 28, 28)\n",
      "4 (5842, 28, 28)\n",
      "5 (5421, 28, 28)\n",
      "6 (5918, 28, 28)\n",
      "7 (6265, 28, 28)\n",
      "8 (5851, 28, 28)\n",
      "9 (5949, 28, 28)\n",
      "60000\n"
     ]
    }
   ],
   "source": [
    "suma = 0\n",
    "for i in range(10):\n",
    "    shape = x_train[np.where((y_train == i))].shape\n",
    "    print(i, shape)\n",
    "    suma += shape[0]\n",
    "print(suma)\n"
   ]
  },
  {
   "cell_type": "code",
   "execution_count": 13,
   "metadata": {},
   "outputs": [],
   "source": [
    "# train_filter_01 = np.where((y_train == classes[0]) | (y_train == classes[1]))\n",
    "# test_filter_01 = np.where((y_test == classes[0]) | (y_test == classes[1]))\n",
    "\n",
    "train_filter_c0 = np.where((y_train == classes[0]))\n",
    "train_filter_c1 = np.where((y_train == classes[1]))\n",
    "# test_filter_c0 = np.where((y_test == classes[0]))\n",
    "# test_filter_c1 = np.where((y_test == classes[1]))\n",
    "\n",
    "\n",
    "X_train_c0, Y_train_c0 = x_train[train_filter_c0], y_train[train_filter_c0]\n",
    "X_train_c1, Y_train_c1 = x_train[train_filter_c1], y_train[train_filter_c1]"
   ]
  },
  {
   "cell_type": "code",
   "execution_count": 40,
   "metadata": {},
   "outputs": [],
   "source": [
    "# Normalization of the data + calc norm 1 distance\n",
    "s = []\n",
    "for c0 in X_train_c0:\n",
    "    for c1 in X_train_c1:\n",
    "        s.append(sum(sum(abs(c0/255*np.pi/2 - c1/255*np.pi/2))))"
   ]
  },
  {
   "cell_type": "code",
   "execution_count": null,
   "metadata": {},
   "outputs": [],
   "source": [
    "import matplotlib.pyplot as plt\n",
    "import seaborn as sns\n",
    "\n",
    "sns.displot(s, kind=\"kde\")\n",
    "\n",
    "name = \"Norm-1 distance\"\n",
    "plot_name = f'{name} of classes: {classes[0]} vs {classes[1]}'\n",
    "plt.title(plot_name)\n",
    "plt.xlabel(name)\n",
    "# plt.xlim(left=0, right=right_limit[j])\n",
    "# file_name = f'{datetime.now().strftime(\"%d-%m-%Y %H-%M-%S\")} - {plot_name}'\n",
    "# plt.savefig(os.path.join(os.path.dirname(__file__), f'Plots/plot_histograms/{file_name}.png'), bbox_inches=\"tight\")\n",
    "plt.show()\n",
    "# plt.clf()\n",
    "# time.sleep(1)"
   ]
  }
 ],
 "metadata": {
  "kernelspec": {
   "display_name": "venv",
   "language": "python",
   "name": "python3"
  },
  "language_info": {
   "codemirror_mode": {
    "name": "ipython",
    "version": 3
   },
   "file_extension": ".py",
   "mimetype": "text/x-python",
   "name": "python",
   "nbconvert_exporter": "python",
   "pygments_lexer": "ipython3",
   "version": "3.11.5"
  },
  "orig_nbformat": 4
 },
 "nbformat": 4,
 "nbformat_minor": 2
}
